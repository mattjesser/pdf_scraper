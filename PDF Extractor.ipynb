{
 "cells": [
  {
   "cell_type": "code",
   "execution_count": null,
   "metadata": {},
   "outputs": [],
   "source": [
    "\"\"\"\n",
    "TODO:\n",
    "* Figure out 1-row tables (pg 847)\n",
    "* Figure out wonky tables with extra chars (pg 577)\n",
    "\"\"\""
   ]
  },
  {
   "cell_type": "markdown",
   "metadata": {},
   "source": [
    "### Prepping the PDF Parser"
   ]
  },
  {
   "cell_type": "code",
   "execution_count": null,
   "metadata": {},
   "outputs": [],
   "source": [
    "#install the pdf extract library\n",
    "\n",
    "!pip install pdfminer3"
   ]
  },
  {
   "cell_type": "code",
   "execution_count": 126,
   "metadata": {},
   "outputs": [],
   "source": [
    "#import the necessary packages for pulling data out of PDFs\n",
    "import pandas as pd\n",
    "import io\n",
    "\n",
    "from pdfminer3.pdfinterp import PDFResourceManager, PDFPageInterpreter\n",
    "from pdfminer3.converter import TextConverter, XMLConverter\n",
    "from pdfminer3.layout import LAParams\n",
    "from pdfminer3.pdfpage import PDFPage"
   ]
  },
  {
   "cell_type": "code",
   "execution_count": 127,
   "metadata": {},
   "outputs": [],
   "source": [
    "#build a function that pulls out the data from the pdf into a giant string\n",
    "\n",
    "def convert_pdf_to_txt(path,pg):\n",
    "    if isinstance(pg, int):\n",
    "        pg=[pg-1]\n",
    "    else:\n",
    "        print('please pass an integer for your pagenumber')\n",
    "        return\n",
    "    rsrcmgr = PDFResourceManager()\n",
    "    retstr = io.StringIO()\n",
    "    codec = 'utf-8'\n",
    "    laparams = LAParams()\n",
    "    device = TextConverter(rsrcmgr, retstr, codec=codec, laparams=laparams)\n",
    "    fp = open(path, 'rb')\n",
    "    interpreter = PDFPageInterpreter(rsrcmgr, device)\n",
    "    password = \"\"\n",
    "    maxpages = 0\n",
    "    caching = True\n",
    "    pagenos = pg\n",
    "\n",
    "    for page in PDFPage.get_pages(fp, pagenos, maxpages=maxpages,\n",
    "                                  password=password,\n",
    "                                  caching=caching,\n",
    "                                  check_extractable=True):\n",
    "        interpreter.process_page(page)\n",
    "\n",
    "    text = retstr.getvalue()\n",
    "\n",
    "    fp.close()\n",
    "    device.close()\n",
    "    retstr.close()\n",
    "    return text"
   ]
  },
  {
   "cell_type": "markdown",
   "metadata": {},
   "source": [
    "### >>>Put in your Variables here<<<"
   ]
  },
  {
   "cell_type": "code",
   "execution_count": 415,
   "metadata": {},
   "outputs": [],
   "source": [
    "fl = 'NOVA_L998'\n",
    "page = 571\n",
    "\n",
    "#----------#\n",
    "ext = '.PDF'\n",
    "file = fl+ext"
   ]
  },
  {
   "cell_type": "markdown",
   "metadata": {},
   "source": [
    "### This gets the pdf page and splits everything into lists"
   ]
  },
  {
   "cell_type": "code",
   "execution_count": 405,
   "metadata": {
    "scrolled": true
   },
   "outputs": [],
   "source": [
    "### point the file at the function and parse the specified page\n",
    "p = convert_pdf_to_txt(file, page)\n",
    "#print(p)\n",
    "\n",
    "pp = p.split('\\n\\n')\n",
    "pp2 = []\n",
    "lp = 0\n",
    "for l in range(len(pp)):   \n",
    "    pp2.append(pp[l].split('\\n'))\n",
    "\n",
    "#pp2"
   ]
  },
  {
   "cell_type": "markdown",
   "metadata": {},
   "source": [
    "### This organizes the data puts it into a dataframe"
   ]
  },
  {
   "cell_type": "code",
   "execution_count": 408,
   "metadata": {
    "scrolled": true
   },
   "outputs": [
    {
     "data": {
      "text/html": [
       "<div>\n",
       "<style scoped>\n",
       "    .dataframe tbody tr th:only-of-type {\n",
       "        vertical-align: middle;\n",
       "    }\n",
       "\n",
       "    .dataframe tbody tr th {\n",
       "        vertical-align: top;\n",
       "    }\n",
       "\n",
       "    .dataframe thead th {\n",
       "        text-align: right;\n",
       "    }\n",
       "</style>\n",
       "<table border=\"1\" class=\"dataframe\">\n",
       "  <thead>\n",
       "    <tr style=\"text-align: right;\">\n",
       "      <th></th>\n",
       "      <th>No Ref</th>\n",
       "      <th>Parts Num</th>\n",
       "      <th>Description</th>\n",
       "      <th>Quantity</th>\n",
       "      <th>Category</th>\n",
       "      <th>Sub-Category</th>\n",
       "      <th>Localisation</th>\n",
       "      <th>REV</th>\n",
       "    </tr>\n",
       "  </thead>\n",
       "  <tbody>\n",
       "    <tr>\n",
       "      <th>0</th>\n",
       "      <td>01</td>\n",
       "      <td>REF</td>\n",
       "      <td>REFERENCE TO PAGE N87400-02</td>\n",
       "      <td>01</td>\n",
       "      <td>ENGINE AND COOLING</td>\n",
       "      <td>BELT GUARD INST</td>\n",
       "      <td>09-403.37X4</td>\n",
       "      <td>18AL17</td>\n",
       "    </tr>\n",
       "    <tr>\n",
       "      <th>1</th>\n",
       "      <td>02</td>\n",
       "      <td>N87863-02</td>\n",
       "      <td>SUPPORT</td>\n",
       "      <td>01</td>\n",
       "      <td>ENGINE AND COOLING</td>\n",
       "      <td>BELT GUARD INST</td>\n",
       "      <td>09-403.37X4</td>\n",
       "      <td>18AL17</td>\n",
       "    </tr>\n",
       "    <tr>\n",
       "      <th>2</th>\n",
       "      <td>03</td>\n",
       "      <td>2303453</td>\n",
       "      <td>NEOPRENE WASHER 1-1/4 OD X 13/32 ID</td>\n",
       "      <td>01</td>\n",
       "      <td>ENGINE AND COOLING</td>\n",
       "      <td>BELT GUARD INST</td>\n",
       "      <td>09-403.37X4</td>\n",
       "      <td>18AL17</td>\n",
       "    </tr>\n",
       "    <tr>\n",
       "      <th>3</th>\n",
       "      <td>04</td>\n",
       "      <td>N45837</td>\n",
       "      <td>RIVET NUT 0.5 / 3.0</td>\n",
       "      <td>04</td>\n",
       "      <td>ENGINE AND COOLING</td>\n",
       "      <td>BELT GUARD INST</td>\n",
       "      <td>09-403.37X4</td>\n",
       "      <td>18AL17</td>\n",
       "    </tr>\n",
       "    <tr>\n",
       "      <th>4</th>\n",
       "      <td>05</td>\n",
       "      <td>N17905</td>\n",
       "      <td>LOCK WASHER M8</td>\n",
       "      <td>07</td>\n",
       "      <td>ENGINE AND COOLING</td>\n",
       "      <td>BELT GUARD INST</td>\n",
       "      <td>09-403.37X4</td>\n",
       "      <td>18AL17</td>\n",
       "    </tr>\n",
       "    <tr>\n",
       "      <th>5</th>\n",
       "      <td>06</td>\n",
       "      <td>N21101</td>\n",
       "      <td>WASHER OVERSIZE M8</td>\n",
       "      <td>07</td>\n",
       "      <td>ENGINE AND COOLING</td>\n",
       "      <td>BELT GUARD INST</td>\n",
       "      <td>09-403.37X4</td>\n",
       "      <td>18AL17</td>\n",
       "    </tr>\n",
       "    <tr>\n",
       "      <th>6</th>\n",
       "      <td>07</td>\n",
       "      <td>N11168</td>\n",
       "      <td>BOLT M8 X 1,25 X 25 GR8</td>\n",
       "      <td>07</td>\n",
       "      <td>ENGINE AND COOLING</td>\n",
       "      <td>BELT GUARD INST</td>\n",
       "      <td>09-403.37X4</td>\n",
       "      <td>18AL17</td>\n",
       "    </tr>\n",
       "    <tr>\n",
       "      <th>7</th>\n",
       "      <td>08</td>\n",
       "      <td>N44888</td>\n",
       "      <td>LOCKNUT NYLON M8</td>\n",
       "      <td>02</td>\n",
       "      <td>ENGINE AND COOLING</td>\n",
       "      <td>BELT GUARD INST</td>\n",
       "      <td>09-403.37X4</td>\n",
       "      <td>18AL17</td>\n",
       "    </tr>\n",
       "    <tr>\n",
       "      <th>8</th>\n",
       "      <td>REF</td>\n",
       "      <td>R085023</td>\n",
       "      <td>SEALANT NEVER SEIZE</td>\n",
       "      <td>QR</td>\n",
       "      <td>ENGINE AND COOLING</td>\n",
       "      <td>BELT GUARD INST</td>\n",
       "      <td>09-403.37X4</td>\n",
       "      <td>18AL17</td>\n",
       "    </tr>\n",
       "  </tbody>\n",
       "</table>\n",
       "</div>"
      ],
      "text/plain": [
       "  No Ref  Parts Num                          Description Quantity  \\\n",
       "0     01        REF          REFERENCE TO PAGE N87400-02       01   \n",
       "1     02  N87863-02                              SUPPORT       01   \n",
       "2     03    2303453  NEOPRENE WASHER 1-1/4 OD X 13/32 ID       01   \n",
       "3     04     N45837                  RIVET NUT 0.5 / 3.0       04   \n",
       "4     05     N17905                       LOCK WASHER M8       07   \n",
       "5     06     N21101                   WASHER OVERSIZE M8       07   \n",
       "6     07     N11168              BOLT M8 X 1,25 X 25 GR8       07   \n",
       "7     08     N44888                     LOCKNUT NYLON M8       02   \n",
       "8    REF    R085023                  SEALANT NEVER SEIZE       QR   \n",
       "\n",
       "             Category     Sub-Category Localisation     REV  \n",
       "0  ENGINE AND COOLING  BELT GUARD INST  09-403.37X4  18AL17  \n",
       "1  ENGINE AND COOLING  BELT GUARD INST  09-403.37X4  18AL17  \n",
       "2  ENGINE AND COOLING  BELT GUARD INST  09-403.37X4  18AL17  \n",
       "3  ENGINE AND COOLING  BELT GUARD INST  09-403.37X4  18AL17  \n",
       "4  ENGINE AND COOLING  BELT GUARD INST  09-403.37X4  18AL17  \n",
       "5  ENGINE AND COOLING  BELT GUARD INST  09-403.37X4  18AL17  \n",
       "6  ENGINE AND COOLING  BELT GUARD INST  09-403.37X4  18AL17  \n",
       "7  ENGINE AND COOLING  BELT GUARD INST  09-403.37X4  18AL17  \n",
       "8  ENGINE AND COOLING  BELT GUARD INST  09-403.37X4  18AL17  "
      ]
     },
     "execution_count": 408,
     "metadata": {},
     "output_type": "execute_result"
    }
   ],
   "source": [
    "### Cleanup the dataset into column headers, metadata, and real data\n",
    "col = []\n",
    "data = []\n",
    "meta = []\n",
    "for l in range(len(pp2)):\n",
    "    if pp2[l][0] == 'No.':\n",
    "        col.append('No Ref')\n",
    "    elif len(pp2[l]) == 2 and pp2[l][0] == 'Parts':\n",
    "        col.append('Parts Num')\n",
    "    elif len(pp2[l]) == 1 and pp2[l][0] == 'Description':\n",
    "        col.append('Description')\n",
    "    elif len(pp2[l]) == 1 and pp2[l][0] == 'Quantity':\n",
    "        col.append('Quantity')\n",
    "    elif len(pp2[l]) == 1 and pp2[l][0] != '\\x0c':\n",
    "        meta.append(pp2[l])\n",
    "    elif pp2[l][0] != '\\x0c':\n",
    "        data.append(pp2[l])\n",
    "    #print(len(pp2[l]), pp2[l][0] == 'No.')\n",
    "\n",
    "### create a df for the data, add column names & add a tmp column for joining metadata\n",
    "df = pd.DataFrame(data).transpose()\n",
    "df.columns = col\n",
    "df['tmp'] = 1\n",
    "#df\n",
    "\n",
    "### create a df for the metadata & add tmp col for joining to base data\n",
    "dfm = pd.DataFrame(meta).transpose()\n",
    "dfm.columns = ['Category','Sub-Category','Localisation','REV' ]\n",
    "dfm['tmp'] = 1\n",
    "#dfm\n",
    "\n",
    "### join the metadata to the base data and re-order columns\n",
    "data = df.merge(dfm, on='tmp')\n",
    "data.drop(['tmp'], axis=1, inplace=True)\n",
    "data = data[['No Ref', 'Parts Num', 'Description', 'Quantity','Category', 'Sub-Category','Localisation','REV']]\n",
    "data"
   ]
  },
  {
   "cell_type": "markdown",
   "metadata": {},
   "source": [
    "### Write the data to a CSV File"
   ]
  },
  {
   "cell_type": "code",
   "execution_count": 417,
   "metadata": {},
   "outputs": [],
   "source": [
    "data.to_csv('page '+str(page)+' from '+fl+'.csv', index=False)"
   ]
  }
 ],
 "metadata": {
  "kernelspec": {
   "display_name": "Python 3",
   "language": "python",
   "name": "python3"
  },
  "language_info": {
   "codemirror_mode": {
    "name": "ipython",
    "version": 3
   },
   "file_extension": ".py",
   "mimetype": "text/x-python",
   "name": "python",
   "nbconvert_exporter": "python",
   "pygments_lexer": "ipython3",
   "version": "3.6.5"
  }
 },
 "nbformat": 4,
 "nbformat_minor": 2
}
